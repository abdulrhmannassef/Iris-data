{
  "nbformat": 4,
  "nbformat_minor": 0,
  "metadata": {
    "kernelspec": {
      "display_name": "Python 3",
      "language": "python",
      "name": "python3"
    },
    "language_info": {
      "codemirror_mode": {
        "name": "ipython",
        "version": 3
      },
      "file_extension": ".py",
      "mimetype": "text/x-python",
      "name": "python",
      "nbconvert_exporter": "python",
      "pygments_lexer": "ipython3",
      "version": "3.7.3"
    },
    "colab": {
      "name": "Copy of abdulrhman ahmed faried nassef.ipynb",
      "provenance": [],
      "include_colab_link": true
    }
  },
  "cells": [
    {
      "cell_type": "markdown",
      "metadata": {
        "id": "view-in-github",
        "colab_type": "text"
      },
      "source": [
        "<a href=\"https://colab.research.google.com/github/abdulrhmannassef/Iris-data/blob/main/Copy_of_abdulrhman_ahmed_faried_nassef.ipynb\" target=\"_parent\"><img src=\"https://colab.research.google.com/assets/colab-badge.svg\" alt=\"Open In Colab\"/></a>"
      ]
    },
    {
      "cell_type": "code",
      "metadata": {
        "id": "3A2Peyw2Wxox"
      },
      "source": [
        "import pandas as pd\n",
        "import numpy as np"
      ],
      "execution_count": null,
      "outputs": []
    },
    {
      "cell_type": "code",
      "metadata": {
        "id": "EUZQW8DBWxo1"
      },
      "source": [
        "df = pd.read_csv(\"FuelEconomy.csv\")"
      ],
      "execution_count": null,
      "outputs": []
    },
    {
      "cell_type": "code",
      "metadata": {
        "id": "zeB60bzLWxo1",
        "outputId": "549fc85f-6f5d-4a2e-d22e-8d3160480f95"
      },
      "source": [
        "df.head(10)"
      ],
      "execution_count": null,
      "outputs": [
        {
          "output_type": "execute_result",
          "data": {
            "text/html": [
              "<div>\n",
              "<style scoped>\n",
              "    .dataframe tbody tr th:only-of-type {\n",
              "        vertical-align: middle;\n",
              "    }\n",
              "\n",
              "    .dataframe tbody tr th {\n",
              "        vertical-align: top;\n",
              "    }\n",
              "\n",
              "    .dataframe thead th {\n",
              "        text-align: right;\n",
              "    }\n",
              "</style>\n",
              "<table border=\"1\" class=\"dataframe\">\n",
              "  <thead>\n",
              "    <tr style=\"text-align: right;\">\n",
              "      <th></th>\n",
              "      <th>Horse Power</th>\n",
              "      <th>Fuel Economy (MPG)</th>\n",
              "    </tr>\n",
              "  </thead>\n",
              "  <tbody>\n",
              "    <tr>\n",
              "      <th>0</th>\n",
              "      <td>118.770799</td>\n",
              "      <td>29.344195</td>\n",
              "    </tr>\n",
              "    <tr>\n",
              "      <th>1</th>\n",
              "      <td>176.326567</td>\n",
              "      <td>24.695934</td>\n",
              "    </tr>\n",
              "    <tr>\n",
              "      <th>2</th>\n",
              "      <td>219.262465</td>\n",
              "      <td>23.952010</td>\n",
              "    </tr>\n",
              "    <tr>\n",
              "      <th>3</th>\n",
              "      <td>187.310009</td>\n",
              "      <td>23.384546</td>\n",
              "    </tr>\n",
              "    <tr>\n",
              "      <th>4</th>\n",
              "      <td>218.594340</td>\n",
              "      <td>23.426739</td>\n",
              "    </tr>\n",
              "    <tr>\n",
              "      <th>5</th>\n",
              "      <td>175.838106</td>\n",
              "      <td>24.173571</td>\n",
              "    </tr>\n",
              "    <tr>\n",
              "      <th>6</th>\n",
              "      <td>271.441608</td>\n",
              "      <td>17.163583</td>\n",
              "    </tr>\n",
              "    <tr>\n",
              "      <th>7</th>\n",
              "      <td>294.425916</td>\n",
              "      <td>17.274218</td>\n",
              "    </tr>\n",
              "    <tr>\n",
              "      <th>8</th>\n",
              "      <td>126.211008</td>\n",
              "      <td>28.718210</td>\n",
              "    </tr>\n",
              "    <tr>\n",
              "      <th>9</th>\n",
              "      <td>163.350335</td>\n",
              "      <td>28.289516</td>\n",
              "    </tr>\n",
              "  </tbody>\n",
              "</table>\n",
              "</div>"
            ],
            "text/plain": [
              "   Horse Power  Fuel Economy (MPG)\n",
              "0   118.770799           29.344195\n",
              "1   176.326567           24.695934\n",
              "2   219.262465           23.952010\n",
              "3   187.310009           23.384546\n",
              "4   218.594340           23.426739\n",
              "5   175.838106           24.173571\n",
              "6   271.441608           17.163583\n",
              "7   294.425916           17.274218\n",
              "8   126.211008           28.718210\n",
              "9   163.350335           28.289516"
            ]
          },
          "metadata": {
            "tags": []
          },
          "execution_count": 4
        }
      ]
    },
    {
      "cell_type": "code",
      "metadata": {
        "id": "SRQbeEXIWxo2",
        "outputId": "8f8a5e03-a250-4ba0-cef2-01c5fa7c2854"
      },
      "source": [
        "df.describe().T"
      ],
      "execution_count": null,
      "outputs": [
        {
          "output_type": "execute_result",
          "data": {
            "text/html": [
              "<div>\n",
              "<style scoped>\n",
              "    .dataframe tbody tr th:only-of-type {\n",
              "        vertical-align: middle;\n",
              "    }\n",
              "\n",
              "    .dataframe tbody tr th {\n",
              "        vertical-align: top;\n",
              "    }\n",
              "\n",
              "    .dataframe thead th {\n",
              "        text-align: right;\n",
              "    }\n",
              "</style>\n",
              "<table border=\"1\" class=\"dataframe\">\n",
              "  <thead>\n",
              "    <tr style=\"text-align: right;\">\n",
              "      <th></th>\n",
              "      <th>count</th>\n",
              "      <th>mean</th>\n",
              "      <th>std</th>\n",
              "      <th>min</th>\n",
              "      <th>25%</th>\n",
              "      <th>50%</th>\n",
              "      <th>75%</th>\n",
              "      <th>max</th>\n",
              "    </tr>\n",
              "  </thead>\n",
              "  <tbody>\n",
              "    <tr>\n",
              "      <th>Horse Power</th>\n",
              "      <td>100.0</td>\n",
              "      <td>213.676190</td>\n",
              "      <td>62.061726</td>\n",
              "      <td>50.0</td>\n",
              "      <td>174.996514</td>\n",
              "      <td>218.928402</td>\n",
              "      <td>251.706476</td>\n",
              "      <td>350.0</td>\n",
              "    </tr>\n",
              "    <tr>\n",
              "      <th>Fuel Economy (MPG)</th>\n",
              "      <td>100.0</td>\n",
              "      <td>23.178501</td>\n",
              "      <td>4.701666</td>\n",
              "      <td>10.0</td>\n",
              "      <td>20.439516</td>\n",
              "      <td>23.143192</td>\n",
              "      <td>26.089933</td>\n",
              "      <td>35.0</td>\n",
              "    </tr>\n",
              "  </tbody>\n",
              "</table>\n",
              "</div>"
            ],
            "text/plain": [
              "                    count        mean        std   min         25%  \\\n",
              "Horse Power         100.0  213.676190  62.061726  50.0  174.996514   \n",
              "Fuel Economy (MPG)  100.0   23.178501   4.701666  10.0   20.439516   \n",
              "\n",
              "                           50%         75%    max  \n",
              "Horse Power         218.928402  251.706476  350.0  \n",
              "Fuel Economy (MPG)   23.143192   26.089933   35.0  "
            ]
          },
          "metadata": {
            "tags": []
          },
          "execution_count": 8
        }
      ]
    },
    {
      "cell_type": "code",
      "metadata": {
        "id": "fp8QbrCpWxo3",
        "outputId": "aea150f2-67ac-4cb8-e012-b31c0f93c087"
      },
      "source": [
        "df.isna().sum()"
      ],
      "execution_count": null,
      "outputs": [
        {
          "output_type": "execute_result",
          "data": {
            "text/plain": [
              "Horse Power           0\n",
              "Fuel Economy (MPG)    0\n",
              "dtype: int64"
            ]
          },
          "metadata": {
            "tags": []
          },
          "execution_count": 13
        }
      ]
    },
    {
      "cell_type": "code",
      "metadata": {
        "id": "A9Qsp9SZWxo4",
        "outputId": "bc4663cd-3605-4466-fd26-e4e4a8412697"
      },
      "source": [
        "df.shape"
      ],
      "execution_count": null,
      "outputs": [
        {
          "output_type": "execute_result",
          "data": {
            "text/plain": [
              "(100, 2)"
            ]
          },
          "metadata": {
            "tags": []
          },
          "execution_count": 15
        }
      ]
    },
    {
      "cell_type": "code",
      "metadata": {
        "id": "M8vPBtZYWxo4"
      },
      "source": [
        "from sklearn.model_selection import train_test_split\n",
        "from sklearn.linear_model import LinearRegression"
      ],
      "execution_count": null,
      "outputs": []
    },
    {
      "cell_type": "code",
      "metadata": {
        "id": "9YOn1IhGWxo4"
      },
      "source": [
        "lineReg = LinearRegression()"
      ],
      "execution_count": null,
      "outputs": []
    },
    {
      "cell_type": "code",
      "metadata": {
        "id": "aR9IlrauWxo5"
      },
      "source": [
        "x_features = df[['Horse Power']]\n",
        "y_target = df[['Fuel Economy (MPG)']]"
      ],
      "execution_count": null,
      "outputs": []
    },
    {
      "cell_type": "code",
      "metadata": {
        "id": "gXxlHjxYWxo5"
      },
      "source": [
        "X_train , X_test, y_train,y_test= train_test_split(x_features, y_target)"
      ],
      "execution_count": null,
      "outputs": []
    },
    {
      "cell_type": "code",
      "metadata": {
        "id": "hGbYO9OQWxo6",
        "outputId": "0c4a33cb-7669-4321-9f7c-a309deaa19c4"
      },
      "source": [
        "print(X_train.shape,X_test.shape,y_train.shape,y_test.shape)"
      ],
      "execution_count": null,
      "outputs": [
        {
          "output_type": "stream",
          "text": [
            "(75, 1) (25, 1) (75, 1) (25, 1)\n"
          ],
          "name": "stdout"
        }
      ]
    },
    {
      "cell_type": "code",
      "metadata": {
        "id": "TTWUNuVPWxo6",
        "outputId": "81ea8eb3-90e3-4c4e-e7ec-8ffae508f776"
      },
      "source": [
        "lineReg.fit(X_train,y_train)"
      ],
      "execution_count": null,
      "outputs": [
        {
          "output_type": "execute_result",
          "data": {
            "text/plain": [
              "LinearRegression(copy_X=True, fit_intercept=True, n_jobs=None, normalize=False)"
            ]
          },
          "metadata": {
            "tags": []
          },
          "execution_count": 32
        }
      ]
    },
    {
      "cell_type": "code",
      "metadata": {
        "id": "uocB0xsjWxo7",
        "outputId": "3e9b8e9a-4e07-43a6-d3cd-41cb72b9c099"
      },
      "source": [
        "#print the mean squared error MSE\n",
        "print(\"MSE %.2f\" %np.mean((lineReg.predict(X_test)-y_test)**2))"
      ],
      "execution_count": null,
      "outputs": [
        {
          "output_type": "stream",
          "text": [
            "MSE 1.66\n"
          ],
          "name": "stdout"
        }
      ]
    },
    {
      "cell_type": "code",
      "metadata": {
        "id": "rlUD6nNiWxo7",
        "outputId": "00bfe396-b630-4471-a496-0b224506338e"
      },
      "source": [
        "#print the variance\n",
        "print(\"variance %.2f\" %lineReg.score(X_test,y_test))"
      ],
      "execution_count": null,
      "outputs": [
        {
          "output_type": "stream",
          "text": [
            "variance 0.90\n"
          ],
          "name": "stdout"
        }
      ]
    },
    {
      "cell_type": "code",
      "metadata": {
        "id": "rQI2wdyXWxo8",
        "outputId": "3f10ce63-b8ad-4dca-beff-95b3e01ddf92"
      },
      "source": [
        "lineReg.score(X_test,y_test)"
      ],
      "execution_count": null,
      "outputs": [
        {
          "output_type": "execute_result",
          "data": {
            "text/plain": [
              "0.9042213947841071"
            ]
          },
          "metadata": {
            "tags": []
          },
          "execution_count": 35
        }
      ]
    },
    {
      "cell_type": "code",
      "metadata": {
        "id": "PCBcseq7Wxo8"
      },
      "source": [
        ""
      ],
      "execution_count": null,
      "outputs": []
    }
  ]
}